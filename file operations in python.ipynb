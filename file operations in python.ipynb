{
 "cells": [
  {
   "cell_type": "code",
   "execution_count": 9,
   "id": "33df1dca-ef9e-4bd9-8df8-3f4849a5f155",
   "metadata": {},
   "outputs": [],
   "source": [
    "# creating a python file\n",
    "\n",
    "file_1 = open(\"contacts.txt\", \"w\")\n",
    "file_1.write(\"Mrs Rogo: +4456789233 || india\\n\")\n",
    "file_1.write(\"Mrs mahmud: +6095468833 || uk\\n\")\n",
    "file_1.write(\"Mrs hadi: +45367895455 ||malaysia\\n\") \n",
    "file_1.close()"
   ]
  },
  {
   "cell_type": "code",
   "execution_count": null,
   "id": "d920dd7d-e16e-46db-b323-6b532b976381",
   "metadata": {},
   "outputs": [],
   "source": []
  },
  {
   "cell_type": "code",
   "execution_count": 10,
   "id": "25999d0b-422b-48ec-8034-8b49829fc376",
   "metadata": {},
   "outputs": [
    {
     "name": "stdout",
     "output_type": "stream",
     "text": [
      "Mrs Rogo: +4456789233 || india\n",
      "Mrs mahmud: +6095468833 || uk\n",
      "Mrs hadi: +45367895455 ||malaysia\n",
      "\n"
     ]
    }
   ],
   "source": [
    "# reading files\n",
    "file_1 = open(\"contacts.txt\", \"r\")\n",
    "print(file_1.read())\n",
    "file_1.close()"
   ]
  },
  {
   "cell_type": "code",
   "execution_count": 11,
   "id": "147a4257-6f1f-4daa-af59-9b00ab398cde",
   "metadata": {},
   "outputs": [
    {
     "name": "stdout",
     "output_type": "stream",
     "text": [
      "Mrs Rogo: +4456789233 || india\n",
      "\n"
     ]
    }
   ],
   "source": [
    "# reading just the first line\n",
    "file_1 = open(\"contacts.txt\", \"r\")\n",
    "print(file_1.readline())\n",
    "file_1.close()"
   ]
  },
  {
   "cell_type": "code",
   "execution_count": 12,
   "id": "31bfe3d5-8044-4395-9e70-6148f4a97756",
   "metadata": {},
   "outputs": [
    {
     "name": "stdout",
     "output_type": "stream",
     "text": [
      "['Mrs Rogo: +4456789233 || india\\n', 'Mrs mahmud: +6095468833 || uk\\n', 'Mrs hadi: +45367895455 ||malaysia\\n']\n"
     ]
    }
   ],
   "source": [
    "# reading all line inside the list\n",
    "file_1 = open(\"contacts.txt\", \"r\")\n",
    "print(file_1.readlines())\n",
    "file_1.close()"
   ]
  },
  {
   "cell_type": "code",
   "execution_count": 13,
   "id": "96399630-8115-4dea-832b-77f5b40292e9",
   "metadata": {},
   "outputs": [
    {
     "name": "stdout",
     "output_type": "stream",
     "text": [
      "Mrs Rogo: +4456789233 || india\n",
      "\n",
      "Mrs mahmud: +6095468833 || uk\n",
      "\n",
      "Mrs hadi: +45367895455 ||malaysia\n",
      "\n"
     ]
    }
   ],
   "source": [
    "file_1 = open(\"contacts.txt\", \"r\")\n",
    "file_2 = file_1.readlines()\n",
    "for line in file_2:\n",
    "    print (line)\n",
    "file_1.close()"
   ]
  },
  {
   "cell_type": "code",
   "execution_count": 14,
   "id": "e127936f-989e-41d5-a0c6-c7fe057f1711",
   "metadata": {},
   "outputs": [
    {
     "name": "stdout",
     "output_type": "stream",
     "text": [
      "Mrs Rogo: +4456789233 || india\n",
      "Mrs mahmud: +6095468833 || uk\n",
      "Mrs hadi: +45367895455 ||malaysia\n"
     ]
    }
   ],
   "source": [
    "# using the\n",
    "\n",
    "file_1 = open(\"contacts.txt\", \"r\")\n",
    "file_2 = file_1.readlines()\n",
    "for line in file_2:\n",
    "    print (line.strip())\n",
    "file_1.close()"
   ]
  },
  {
   "cell_type": "code",
   "execution_count": 16,
   "id": "7188b249-32ee-46da-9958-81ea4c496428",
   "metadata": {},
   "outputs": [],
   "source": [
    "# updating a file\n",
    "\n",
    "file_1 = open(\"contacts.txt\", \"a\")\n",
    "file_1.write(\"mrs hajara: +9102876665 || france\\n\")\n",
    "file_1.close()\n"
   ]
  },
  {
   "cell_type": "code",
   "execution_count": 17,
   "id": "27fa57ab-2744-4d3a-8599-ad8779deff0d",
   "metadata": {},
   "outputs": [
    {
     "name": "stdout",
     "output_type": "stream",
     "text": [
      "Mrs Rogo: +4456789233 || india\n",
      "Mrs mahmud: +6095468833 || uk\n",
      "Mrs hadi: +45367895455 ||malaysia\n",
      "mrs hajara: +9102876665 || france\n",
      "\n"
     ]
    }
   ],
   "source": [
    "file_1 = open(\"contacts.txt\", \"r\")\n",
    "print(file_1.read())\n",
    "file_1.close()\n"
   ]
  },
  {
   "cell_type": "code",
   "execution_count": null,
   "id": "161c4f13-dbd1-4402-861b-adb4798ad634",
   "metadata": {},
   "outputs": [],
   "source": []
  }
 ],
 "metadata": {
  "kernelspec": {
   "display_name": "Python 3 (ipykernel)",
   "language": "python",
   "name": "python3"
  },
  "language_info": {
   "codemirror_mode": {
    "name": "ipython",
    "version": 3
   },
   "file_extension": ".py",
   "mimetype": "text/x-python",
   "name": "python",
   "nbconvert_exporter": "python",
   "pygments_lexer": "ipython3",
   "version": "3.12.7"
  }
 },
 "nbformat": 4,
 "nbformat_minor": 5
}
